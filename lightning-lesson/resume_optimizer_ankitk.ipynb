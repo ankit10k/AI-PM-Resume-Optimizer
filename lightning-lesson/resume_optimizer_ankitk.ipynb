{
 "cells": [
  {
   "cell_type": "code",
   "execution_count": null,
   "metadata": {},
   "outputs": [],
   "source": []
  },
  {
   "cell_type": "markdown",
   "metadata": {},
   "source": [
    "### imports"
   ]
  },
  {
   "cell_type": "code",
   "execution_count": null,
   "metadata": {},
   "outputs": [],
   "source": [
    "from IPython.display import display, Markdown\n",
    "import openai\n",
    "from top_secret import my_sk\n",
    "\n",
    "from markdown import markdown\n",
    "from weasyprint import HTML\n",
    "from PyPDF2 import PdfReader"
   ]
  },
  {
   "cell_type": "code",
   "execution_count": null,
   "metadata": {},
   "outputs": [],
   "source": [
    "### Convert pdf to markdown file "
   ]
  },
  {
   "cell_type": "code",
   "execution_count": null,
   "metadata": {},
   "outputs": [],
   "source": [
    "\n",
    "def pdf_to_markdown_simple(pdf_path, markdown_path):\n",
    "    reader = PdfReader(pdf_path)\n",
    "    full_text = \"\"\n",
    "\n",
    "    # Extract text from each page\n",
    "    for page in reader.pages:\n",
    "        full_text += page.extract_text()\n",
    "\n",
    "    # Save to a Markdown file\n",
    "    with open(markdown_path, \"w\", encoding=\"utf-8\") as md_file:\n",
    "        md_file.write(full_text)\n",
    "\n",
    "    print(f\"Converted PDF to Markdown: {markdown_path}\")\n"
   ]
  },
  {
   "cell_type": "code",
   "execution_count": null,
   "metadata": {},
   "outputs": [],
   "source": [
    "pdf_to_markdown_simple(\"resumes/ankitk_updated2024.pdf\", \"resumes/ankitk_updated2024.md\")"
   ]
  },
  {
   "cell_type": "markdown",
   "metadata": {},
   "source": [
    "### 1) Import Resume & Job Description"
   ]
  },
  {
   "cell_type": "code",
   "execution_count": null,
   "metadata": {},
   "outputs": [],
   "source": [
    "# Open and read the Markdown file\n",
    "with open(\"resumes/ankitk_updated2024.md\", \"r\", encoding=\"utf-8\") as file:\n",
    "    resume_string = file.read()\n",
    "\n",
    "# display resume\n",
    "display(Markdown(resume_string))"
   ]
  },
  {
   "cell_type": "code",
   "execution_count": null,
   "metadata": {},
   "outputs": [],
   "source": [
    "# input job description\n",
    "jd_string = input()"
   ]
  },
  {
   "cell_type": "markdown",
   "metadata": {},
   "source": [
    "### 2) Construct Prompt Template"
   ]
  },
  {
   "cell_type": "code",
   "execution_count": null,
   "metadata": {},
   "outputs": [],
   "source": [
    "prompt_template = lambda resume_string, jd_string : f\"\"\"\n",
    "You are a professional resume optimization expert specializing in tailoring resumes to specific job descriptions. Your goal is to optimize my resume and provide actionable suggestions for improvement to align with the target role.\n",
    "\n",
    "### Guidelines:\n",
    "1. **Relevance**:  \n",
    "   - Prioritize experiences, skills, and achievements **most relevant to the job description**.  \n",
    "   - Remove or de-emphasize irrelevant details to ensure a **concise** and **targeted** resume.\n",
    "   - Limit work experience section to 2-3 most relevant roles\n",
    "   - Limit bullet points under each role to 2-3 most relevant impacts\n",
    "\n",
    "2. **Action-Driven Results**:  \n",
    "   - Use **strong action verbs** and **quantifiable results** (e.g., percentages, revenue, efficiency improvements) to highlight impact.  \n",
    "\n",
    "3. **Keyword Optimization**:  \n",
    "   - Integrate **keywords** and phrases from the job description naturally to optimize for ATS (Applicant Tracking Systems).  \n",
    "\n",
    "4. **Additional Suggestions** *(If Gaps Exist)*:  \n",
    "   - If the resume does not fully align with the job description, suggest:  \n",
    "     1. **Additional technical or soft skills** that I could add to make my profile stronger.  \n",
    "     2. **Certifications or courses** I could pursue to bridge the gap.  \n",
    "     3. **Project ideas or experiences** that would better align with the role.  \n",
    "\n",
    "5. **Formatting**:  \n",
    "   - Output the tailored resume in **clean Markdown format**.  \n",
    "   - Include an **\"Additional Suggestions\"** section at the end with actionable improvement recommendations.  \n",
    "\n",
    "---\n",
    "\n",
    "### Input:\n",
    "- **My resume**:  \n",
    "{resume_string}\n",
    "\n",
    "- **The job description**:  \n",
    "{jd_string}\n",
    "\n",
    "---\n",
    "\n",
    "### Output:  \n",
    "1. **Tailored Resume**:  \n",
    "   - A resume in **Markdown format** that emphasizes relevant experience, skills, and achievements.  \n",
    "   - Incorporates job description **keywords** to optimize for ATS.  \n",
    "   - Uses strong language and is no longer than **one page**.\n",
    "\n",
    "2. **Additional Suggestions** *(if applicable)*:  \n",
    "   - List **skills** that could strengthen alignment with the role.  \n",
    "   - Recommend **certifications or courses** to pursue.  \n",
    "   - Suggest **specific projects or experiences** to develop.\n",
    "\"\"\""
   ]
  },
  {
   "cell_type": "code",
   "execution_count": null,
   "metadata": {
    "scrolled": true
   },
   "outputs": [],
   "source": [
    "prompt = prompt_template(resume_string, jd_string)"
   ]
  },
  {
   "cell_type": "markdown",
   "metadata": {},
   "source": [
    "### 3) Generate Resume with GPT-4o-mini"
   ]
  },
  {
   "cell_type": "code",
   "execution_count": null,
   "metadata": {},
   "outputs": [],
   "source": [
    "# setup api client\n",
    "##to be removed\n",
    "\n",
    "#openai.api_key = {{}}\n",
    "\n",
    "# make api call\n",
    "response = openai.ChatCompletion.create(\n",
    "    model=\"gpt-4o-mini\",\n",
    "    messages=[\n",
    "        {\"role\": \"system\", \"content\": \"Expert resume writer\"},\n",
    "        {\"role\": \"user\", \"content\": prompt}\n",
    "    ], \n",
    "    temperature = 0.7\n",
    ")\n",
    "\n",
    "# extract response\n",
    "response_string = response.choices[0].message.content"
   ]
  },
  {
   "cell_type": "markdown",
   "metadata": {},
   "source": [
    "### 4) Display Results"
   ]
  },
  {
   "cell_type": "code",
   "execution_count": null,
   "metadata": {},
   "outputs": [],
   "source": [
    "# separate new resume from improvement suggestions\n",
    "response_list = response_string.split(\"## Additional Suggestions\")"
   ]
  },
  {
   "cell_type": "code",
   "execution_count": null,
   "metadata": {},
   "outputs": [],
   "source": [
    "display(Markdown(response_list[0]))"
   ]
  },
  {
   "cell_type": "markdown",
   "metadata": {},
   "source": [
    "#### save new resume"
   ]
  },
  {
   "cell_type": "code",
   "execution_count": null,
   "metadata": {},
   "outputs": [],
   "source": [
    "# save as PDF\n",
    "output_pdf_file = \"resumes/resume_new.pdf\"\n",
    "\n",
    "# Convert Markdown to HTML\n",
    "html_content = markdown(response_list[0])\n",
    "\n",
    "# Convert HTML to PDF and save\n",
    "HTML(string=html_content).write_pdf(output_pdf_file, stylesheets=['resumes/style.css'])"
   ]
  },
  {
   "cell_type": "code",
   "execution_count": null,
   "metadata": {},
   "outputs": [],
   "source": [
    "# save as markdown\n",
    "output_file = \"resumes/resume_new.md\"\n",
    "\n",
    "with open(output_file, \"w\", encoding=\"utf-8\") as file:\n",
    "    file.write(response_list[0])"
   ]
  },
  {
   "cell_type": "markdown",
   "metadata": {},
   "source": [
    "#### display suggestions for improvement"
   ]
  },
  {
   "cell_type": "code",
   "execution_count": null,
   "metadata": {},
   "outputs": [],
   "source": [
    "display(Markdown(response_list[1]))"
   ]
  },
  {
   "cell_type": "code",
   "execution_count": null,
   "metadata": {},
   "outputs": [],
   "source": []
  }
 ],
 "metadata": {
  "kernelspec": {
   "display_name": "Python 3",
   "language": "python",
   "name": "python3"
  },
  "language_info": {
   "codemirror_mode": {
    "name": "ipython",
    "version": 3
   },
   "file_extension": ".py",
   "mimetype": "text/x-python",
   "name": "python",
   "nbconvert_exporter": "python",
   "pygments_lexer": "ipython3",
   "version": "3.7.6"
  }
 },
 "nbformat": 4,
 "nbformat_minor": 4
}
